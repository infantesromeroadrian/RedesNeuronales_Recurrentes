{
 "cells": [
  {
   "cell_type": "markdown",
   "source": [
    "# Redes Neuronales Recurrentes\n",
    "\n",
    "Redes neuronales recurrentes (RNN): Las RNN son efectivas para trabajar con datos secuenciales, como series de tiempo o lenguaje natural. Variaciones de RNN, como las unidades recurrentes de memoria a largo plazo (LSTM) y las redes neuronales recurrentes compuertas (GRU), son comúnmente utilizadas."
   ],
   "metadata": {
    "collapsed": false
   }
  },
  {
   "cell_type": "code",
   "execution_count": 1,
   "outputs": [
    {
     "name": "stderr",
     "output_type": "stream",
     "text": [
      "2023-06-07 00:57:04.334412: I tensorflow/core/platform/cpu_feature_guard.cc:193] This TensorFlow binary is optimized with oneAPI Deep Neural Network Library (oneDNN) to use the following CPU instructions in performance-critical operations:  SSE4.1 SSE4.2\n",
      "To enable them in other operations, rebuild TensorFlow with the appropriate compiler flags.\n"
     ]
    }
   ],
   "source": [
    "# Importamos las librerías\n",
    "\n",
    "import pandas as pd\n",
    "import numpy as np\n",
    "from sklearn.model_selection import train_test_split\n",
    "from sklearn.preprocessing import MinMaxScaler\n",
    "from tensorflow.keras.models import Sequential\n",
    "from tensorflow.keras.layers import Dense, SimpleRNN"
   ],
   "metadata": {
    "collapsed": false,
    "ExecuteTime": {
     "end_time": "2023-06-06T22:57:07.700305Z",
     "start_time": "2023-06-06T22:57:02.274470Z"
    }
   }
  },
  {
   "cell_type": "code",
   "execution_count": 2,
   "outputs": [
    {
     "data": {
      "text/plain": "   Passengers\n0         112\n1         118\n2         132\n3         129\n4         121",
      "text/html": "<div>\n<style scoped>\n    .dataframe tbody tr th:only-of-type {\n        vertical-align: middle;\n    }\n\n    .dataframe tbody tr th {\n        vertical-align: top;\n    }\n\n    .dataframe thead th {\n        text-align: right;\n    }\n</style>\n<table border=\"1\" class=\"dataframe\">\n  <thead>\n    <tr style=\"text-align: right;\">\n      <th></th>\n      <th>Passengers</th>\n    </tr>\n  </thead>\n  <tbody>\n    <tr>\n      <th>0</th>\n      <td>112</td>\n    </tr>\n    <tr>\n      <th>1</th>\n      <td>118</td>\n    </tr>\n    <tr>\n      <th>2</th>\n      <td>132</td>\n    </tr>\n    <tr>\n      <th>3</th>\n      <td>129</td>\n    </tr>\n    <tr>\n      <th>4</th>\n      <td>121</td>\n    </tr>\n  </tbody>\n</table>\n</div>"
     },
     "execution_count": 2,
     "metadata": {},
     "output_type": "execute_result"
    }
   ],
   "source": [
    "# Cargar los datos\n",
    "url = \"https://raw.githubusercontent.com/jbrownlee/Datasets/master/airline-passengers.csv\"\n",
    "dataframe = pd.read_csv(url, usecols=[1])\n",
    "\n",
    "dataframe.head()"
   ],
   "metadata": {
    "collapsed": false,
    "ExecuteTime": {
     "end_time": "2023-06-06T22:57:41.547989Z",
     "start_time": "2023-06-06T22:57:41.231272Z"
    }
   }
  },
  {
   "cell_type": "markdown",
   "source": [
    "También necesitamos normalizar los datos. Las redes neuronales a menudo funcionan mejor con la entrada normalizada, es decir, los datos que se han escalado para tener un rango entre 0 y 1."
   ],
   "metadata": {
    "collapsed": false
   }
  },
  {
   "cell_type": "code",
   "execution_count": 4,
   "outputs": [
    {
     "name": "stdout",
     "output_type": "stream",
     "text": [
      "Datos de entrenamiento:  96\n",
      "Datos de prueba:  48\n"
     ]
    }
   ],
   "source": [
    "# Convertir a float32\n",
    "data = dataframe.values.astype(\"float32\")\n",
    "\n",
    "# Dividir los datos en conjuntos de entrenamiento y prueba\n",
    "train_size = int(len(data) * 0.67)\n",
    "test_size = len(data) - train_size\n",
    "train, test = data[0:train_size, :], data[train_size:len(data), :]\n",
    "\n",
    "# Normalizar los datos\n",
    "scaler = MinMaxScaler(feature_range=(0, 1))\n",
    "train = scaler.fit_transform(train)\n",
    "test = scaler.transform(test)\n",
    "\n",
    "print(\"Datos de entrenamiento: \", len(train))\n",
    "print(\"Datos de prueba: \", len(test))"
   ],
   "metadata": {
    "collapsed": false,
    "ExecuteTime": {
     "end_time": "2023-06-06T23:05:49.873760Z",
     "start_time": "2023-06-06T23:05:49.868338Z"
    }
   }
  },
  {
   "cell_type": "markdown",
   "source": [
    "Una vez que tenemos nuestros datos de entrenamiento y prueba listos, necesitamos prepararlos para el formato que la red neuronal recurrente espera, que es [muestras, pasos de tiempo, características].\n",
    "\n",
    "En este caso, vamos a utilizar una ventana de tiempo de 1, es decir, vamos a utilizar el número de pasajeros del mes anterior para predecir el número de pasajeros del mes actual."
   ],
   "metadata": {
    "collapsed": false
   }
  },
  {
   "cell_type": "code",
   "execution_count": 5,
   "outputs": [],
   "source": [
    "# Función para crear un dataset\n",
    "\n",
    "def create_dataset(dataset, look_back=1):\n",
    "    dataX, dataY = [], []\n",
    "    for i in range(len(dataset)-look_back-1):\n",
    "        a = dataset[i:(i+look_back), 0]\n",
    "        dataX.append(a)\n",
    "        dataY.append(dataset[i + look_back, 0])\n",
    "    return np.array(dataX), np.array(dataY)\n",
    "\n",
    "look_back = 1\n",
    "trainX, trainY = create_dataset(train, look_back)\n",
    "testX, testY = create_dataset(test, look_back)\n",
    "\n",
    "# remodelar la entrada para que sea [muestras, pasos de tiempo, características]\n",
    "trainX = np.reshape(trainX, (trainX.shape[0], 1, trainX.shape[1]))\n",
    "testX = np.reshape(testX, (testX.shape[0], 1, testX.shape[1]))"
   ],
   "metadata": {
    "collapsed": false,
    "ExecuteTime": {
     "end_time": "2023-06-06T23:12:17.387959Z",
     "start_time": "2023-06-06T23:12:17.381836Z"
    }
   }
  },
  {
   "cell_type": "markdown",
   "source": [
    "Este código crea un conjunto de datos donde Y es el número de pasajeros en el mes actual y X es el número de pasajeros en el mes anterior."
   ],
   "metadata": {
    "collapsed": false
   }
  },
  {
   "cell_type": "markdown",
   "source": [
    "Construir nuestra Red Neuronal Recurrente. Vamos a usar la biblioteca Keras para construir una Red Neuronal Recurrente con capas LSTM (Long Short-Term Memory). Las capas LSTM son una especie de RNN que son capaces de aprender dependencias a largo plazo, lo que las hace muy adecuadas para este tipo de problema de series temporales."
   ],
   "metadata": {
    "collapsed": false
   }
  },
  {
   "cell_type": "code",
   "execution_count": 6,
   "outputs": [],
   "source": [
    "# Crear y ajustar el modelo de la Red Neuronal Recurrente\n",
    "\n",
    "from keras.models import Sequential\n",
    "from keras.layers import Dense\n",
    "from keras.layers import LSTM\n",
    "\n",
    "model = Sequential()\n",
    "model.add(LSTM(4, input_shape=(1, look_back)))\n",
    "model.add(Dense(1))\n",
    "model.compile(loss=\"mean_squared_error\", optimizer=\"adam\")"
   ],
   "metadata": {
    "collapsed": false,
    "ExecuteTime": {
     "end_time": "2023-06-06T23:16:08.285512Z",
     "start_time": "2023-06-06T23:16:07.811393Z"
    }
   }
  },
  {
   "cell_type": "markdown",
   "source": [
    "Creamos un modelo con una capa LSTM con 4 unidades, seguida por una capa densa con 1 unidad (la salida). El modelo se compila con la pérdida del error cuadrático medio y el optimizador Adam."
   ],
   "metadata": {
    "collapsed": false
   }
  },
  {
   "cell_type": "code",
   "execution_count": 7,
   "outputs": [
    {
     "name": "stdout",
     "output_type": "stream",
     "text": [
      "Epoch 1/100\n",
      "94/94 - 1s - loss: 0.1576 - 938ms/epoch - 10ms/step\n",
      "Epoch 2/100\n",
      "94/94 - 0s - loss: 0.0948 - 71ms/epoch - 753us/step\n",
      "Epoch 3/100\n",
      "94/94 - 0s - loss: 0.0615 - 72ms/epoch - 766us/step\n",
      "Epoch 4/100\n",
      "94/94 - 0s - loss: 0.0474 - 70ms/epoch - 750us/step\n",
      "Epoch 5/100\n",
      "94/94 - 0s - loss: 0.0417 - 74ms/epoch - 791us/step\n",
      "Epoch 6/100\n",
      "94/94 - 0s - loss: 0.0385 - 69ms/epoch - 738us/step\n",
      "Epoch 7/100\n",
      "94/94 - 0s - loss: 0.0357 - 72ms/epoch - 762us/step\n",
      "Epoch 8/100\n",
      "94/94 - 0s - loss: 0.0331 - 71ms/epoch - 756us/step\n",
      "Epoch 9/100\n",
      "94/94 - 0s - loss: 0.0305 - 71ms/epoch - 756us/step\n",
      "Epoch 10/100\n",
      "94/94 - 0s - loss: 0.0281 - 69ms/epoch - 737us/step\n",
      "Epoch 11/100\n",
      "94/94 - 0s - loss: 0.0256 - 69ms/epoch - 730us/step\n",
      "Epoch 12/100\n",
      "94/94 - 0s - loss: 0.0230 - 68ms/epoch - 726us/step\n",
      "Epoch 13/100\n",
      "94/94 - 0s - loss: 0.0206 - 68ms/epoch - 721us/step\n",
      "Epoch 14/100\n",
      "94/94 - 0s - loss: 0.0186 - 67ms/epoch - 716us/step\n",
      "Epoch 15/100\n",
      "94/94 - 0s - loss: 0.0163 - 68ms/epoch - 728us/step\n",
      "Epoch 16/100\n",
      "94/94 - 0s - loss: 0.0144 - 70ms/epoch - 740us/step\n",
      "Epoch 17/100\n",
      "94/94 - 0s - loss: 0.0126 - 69ms/epoch - 733us/step\n",
      "Epoch 18/100\n",
      "94/94 - 0s - loss: 0.0111 - 70ms/epoch - 740us/step\n",
      "Epoch 19/100\n",
      "94/94 - 0s - loss: 0.0099 - 68ms/epoch - 721us/step\n",
      "Epoch 20/100\n",
      "94/94 - 0s - loss: 0.0088 - 68ms/epoch - 725us/step\n",
      "Epoch 21/100\n",
      "94/94 - 0s - loss: 0.0079 - 68ms/epoch - 726us/step\n",
      "Epoch 22/100\n",
      "94/94 - 0s - loss: 0.0072 - 69ms/epoch - 732us/step\n",
      "Epoch 23/100\n",
      "94/94 - 0s - loss: 0.0066 - 71ms/epoch - 753us/step\n",
      "Epoch 24/100\n",
      "94/94 - 0s - loss: 0.0063 - 67ms/epoch - 713us/step\n",
      "Epoch 25/100\n",
      "94/94 - 0s - loss: 0.0060 - 69ms/epoch - 737us/step\n",
      "Epoch 26/100\n",
      "94/94 - 0s - loss: 0.0059 - 69ms/epoch - 729us/step\n",
      "Epoch 27/100\n",
      "94/94 - 0s - loss: 0.0057 - 69ms/epoch - 734us/step\n",
      "Epoch 28/100\n",
      "94/94 - 0s - loss: 0.0056 - 68ms/epoch - 719us/step\n",
      "Epoch 29/100\n",
      "94/94 - 0s - loss: 0.0056 - 69ms/epoch - 731us/step\n",
      "Epoch 30/100\n",
      "94/94 - 0s - loss: 0.0055 - 69ms/epoch - 733us/step\n",
      "Epoch 31/100\n",
      "94/94 - 0s - loss: 0.0055 - 69ms/epoch - 730us/step\n",
      "Epoch 32/100\n",
      "94/94 - 0s - loss: 0.0054 - 68ms/epoch - 720us/step\n",
      "Epoch 33/100\n",
      "94/94 - 0s - loss: 0.0055 - 69ms/epoch - 734us/step\n",
      "Epoch 34/100\n",
      "94/94 - 0s - loss: 0.0055 - 67ms/epoch - 717us/step\n",
      "Epoch 35/100\n",
      "94/94 - 0s - loss: 0.0055 - 68ms/epoch - 724us/step\n",
      "Epoch 36/100\n",
      "94/94 - 0s - loss: 0.0055 - 67ms/epoch - 716us/step\n",
      "Epoch 37/100\n",
      "94/94 - 0s - loss: 0.0055 - 69ms/epoch - 735us/step\n",
      "Epoch 38/100\n",
      "94/94 - 0s - loss: 0.0055 - 67ms/epoch - 713us/step\n",
      "Epoch 39/100\n",
      "94/94 - 0s - loss: 0.0055 - 67ms/epoch - 708us/step\n",
      "Epoch 40/100\n",
      "94/94 - 0s - loss: 0.0055 - 68ms/epoch - 727us/step\n",
      "Epoch 41/100\n",
      "94/94 - 0s - loss: 0.0056 - 69ms/epoch - 733us/step\n",
      "Epoch 42/100\n",
      "94/94 - 0s - loss: 0.0054 - 67ms/epoch - 711us/step\n",
      "Epoch 43/100\n",
      "94/94 - 0s - loss: 0.0054 - 68ms/epoch - 720us/step\n",
      "Epoch 44/100\n",
      "94/94 - 0s - loss: 0.0057 - 68ms/epoch - 719us/step\n",
      "Epoch 45/100\n",
      "94/94 - 0s - loss: 0.0055 - 69ms/epoch - 737us/step\n",
      "Epoch 46/100\n",
      "94/94 - 0s - loss: 0.0055 - 70ms/epoch - 742us/step\n",
      "Epoch 47/100\n",
      "94/94 - 0s - loss: 0.0055 - 69ms/epoch - 730us/step\n",
      "Epoch 48/100\n",
      "94/94 - 0s - loss: 0.0056 - 68ms/epoch - 719us/step\n",
      "Epoch 49/100\n",
      "94/94 - 0s - loss: 0.0055 - 68ms/epoch - 726us/step\n",
      "Epoch 50/100\n",
      "94/94 - 0s - loss: 0.0055 - 68ms/epoch - 720us/step\n",
      "Epoch 51/100\n",
      "94/94 - 0s - loss: 0.0055 - 68ms/epoch - 724us/step\n",
      "Epoch 52/100\n",
      "94/94 - 0s - loss: 0.0055 - 69ms/epoch - 732us/step\n",
      "Epoch 53/100\n",
      "94/94 - 0s - loss: 0.0054 - 69ms/epoch - 738us/step\n",
      "Epoch 54/100\n",
      "94/94 - 0s - loss: 0.0057 - 67ms/epoch - 714us/step\n",
      "Epoch 55/100\n",
      "94/94 - 0s - loss: 0.0055 - 68ms/epoch - 726us/step\n",
      "Epoch 56/100\n",
      "94/94 - 0s - loss: 0.0055 - 69ms/epoch - 733us/step\n",
      "Epoch 57/100\n",
      "94/94 - 0s - loss: 0.0055 - 68ms/epoch - 724us/step\n",
      "Epoch 58/100\n",
      "94/94 - 0s - loss: 0.0055 - 67ms/epoch - 714us/step\n",
      "Epoch 59/100\n",
      "94/94 - 0s - loss: 0.0055 - 70ms/epoch - 746us/step\n",
      "Epoch 60/100\n",
      "94/94 - 0s - loss: 0.0056 - 70ms/epoch - 744us/step\n",
      "Epoch 61/100\n",
      "94/94 - 0s - loss: 0.0055 - 70ms/epoch - 740us/step\n",
      "Epoch 62/100\n",
      "94/94 - 0s - loss: 0.0055 - 69ms/epoch - 730us/step\n",
      "Epoch 63/100\n",
      "94/94 - 0s - loss: 0.0055 - 65ms/epoch - 694us/step\n",
      "Epoch 64/100\n",
      "94/94 - 0s - loss: 0.0055 - 73ms/epoch - 778us/step\n",
      "Epoch 65/100\n",
      "94/94 - 0s - loss: 0.0055 - 69ms/epoch - 732us/step\n",
      "Epoch 66/100\n",
      "94/94 - 0s - loss: 0.0055 - 69ms/epoch - 739us/step\n",
      "Epoch 67/100\n",
      "94/94 - 0s - loss: 0.0055 - 67ms/epoch - 717us/step\n",
      "Epoch 68/100\n",
      "94/94 - 0s - loss: 0.0056 - 68ms/epoch - 727us/step\n",
      "Epoch 69/100\n",
      "94/94 - 0s - loss: 0.0055 - 66ms/epoch - 701us/step\n",
      "Epoch 70/100\n",
      "94/94 - 0s - loss: 0.0056 - 68ms/epoch - 727us/step\n",
      "Epoch 71/100\n",
      "94/94 - 0s - loss: 0.0056 - 72ms/epoch - 766us/step\n",
      "Epoch 72/100\n",
      "94/94 - 0s - loss: 0.0055 - 71ms/epoch - 751us/step\n",
      "Epoch 73/100\n",
      "94/94 - 0s - loss: 0.0054 - 74ms/epoch - 786us/step\n",
      "Epoch 74/100\n",
      "94/94 - 0s - loss: 0.0056 - 74ms/epoch - 785us/step\n",
      "Epoch 75/100\n",
      "94/94 - 0s - loss: 0.0055 - 72ms/epoch - 768us/step\n",
      "Epoch 76/100\n",
      "94/94 - 0s - loss: 0.0054 - 70ms/epoch - 747us/step\n",
      "Epoch 77/100\n",
      "94/94 - 0s - loss: 0.0055 - 67ms/epoch - 716us/step\n",
      "Epoch 78/100\n",
      "94/94 - 0s - loss: 0.0055 - 67ms/epoch - 716us/step\n",
      "Epoch 79/100\n",
      "94/94 - 0s - loss: 0.0055 - 70ms/epoch - 747us/step\n",
      "Epoch 80/100\n",
      "94/94 - 0s - loss: 0.0055 - 74ms/epoch - 785us/step\n",
      "Epoch 81/100\n",
      "94/94 - 0s - loss: 0.0057 - 69ms/epoch - 730us/step\n",
      "Epoch 82/100\n",
      "94/94 - 0s - loss: 0.0056 - 69ms/epoch - 735us/step\n",
      "Epoch 83/100\n",
      "94/94 - 0s - loss: 0.0055 - 69ms/epoch - 738us/step\n",
      "Epoch 84/100\n",
      "94/94 - 0s - loss: 0.0054 - 68ms/epoch - 728us/step\n",
      "Epoch 85/100\n",
      "94/94 - 0s - loss: 0.0056 - 67ms/epoch - 716us/step\n",
      "Epoch 86/100\n",
      "94/94 - 0s - loss: 0.0056 - 69ms/epoch - 737us/step\n",
      "Epoch 87/100\n",
      "94/94 - 0s - loss: 0.0055 - 68ms/epoch - 720us/step\n",
      "Epoch 88/100\n",
      "94/94 - 0s - loss: 0.0057 - 68ms/epoch - 721us/step\n",
      "Epoch 89/100\n",
      "94/94 - 0s - loss: 0.0054 - 69ms/epoch - 736us/step\n",
      "Epoch 90/100\n",
      "94/94 - 0s - loss: 0.0055 - 68ms/epoch - 727us/step\n",
      "Epoch 91/100\n",
      "94/94 - 0s - loss: 0.0055 - 68ms/epoch - 723us/step\n",
      "Epoch 92/100\n",
      "94/94 - 0s - loss: 0.0055 - 68ms/epoch - 718us/step\n",
      "Epoch 93/100\n",
      "94/94 - 0s - loss: 0.0055 - 66ms/epoch - 702us/step\n",
      "Epoch 94/100\n",
      "94/94 - 0s - loss: 0.0055 - 68ms/epoch - 720us/step\n",
      "Epoch 95/100\n",
      "94/94 - 0s - loss: 0.0055 - 68ms/epoch - 727us/step\n",
      "Epoch 96/100\n",
      "94/94 - 0s - loss: 0.0055 - 67ms/epoch - 712us/step\n",
      "Epoch 97/100\n",
      "94/94 - 0s - loss: 0.0055 - 68ms/epoch - 727us/step\n",
      "Epoch 98/100\n",
      "94/94 - 0s - loss: 0.0055 - 67ms/epoch - 714us/step\n",
      "Epoch 99/100\n",
      "94/94 - 0s - loss: 0.0056 - 69ms/epoch - 731us/step\n",
      "Epoch 100/100\n",
      "94/94 - 0s - loss: 0.0055 - 67ms/epoch - 711us/step\n"
     ]
    },
    {
     "data": {
      "text/plain": "<keras.callbacks.History at 0x7f7d155d1a30>"
     },
     "execution_count": 7,
     "metadata": {},
     "output_type": "execute_result"
    }
   ],
   "source": [
    "# Entrenar el modelo\n",
    "\n",
    "model.fit(trainX, trainY, epochs=100, batch_size=1, verbose=2)"
   ],
   "metadata": {
    "collapsed": false,
    "ExecuteTime": {
     "end_time": "2023-06-06T23:17:45.042666Z",
     "start_time": "2023-06-06T23:17:37.045397Z"
    }
   }
  },
  {
   "cell_type": "markdown",
   "source": [
    "Este código entrena el modelo durante 100 épocas con un tamaño de lote de 1."
   ],
   "metadata": {
    "collapsed": false
   }
  },
  {
   "cell_type": "markdown",
   "source": [
    "Después de entrenar nuestro modelo, el siguiente paso sería utilizarlo para hacer predicciones. Vamos a hacer predicciones tanto para el conjunto de entrenamiento como para el conjunto de prueba para ver qué tan bien nuestro modelo está funcionando."
   ],
   "metadata": {
    "collapsed": false
   }
  },
  {
   "cell_type": "code",
   "execution_count": 8,
   "outputs": [
    {
     "name": "stdout",
     "output_type": "stream",
     "text": [
      "3/3 [==============================] - 0s 1ms/step\n",
      "2/2 [==============================] - 0s 1ms/step\n"
     ]
    }
   ],
   "source": [
    "# Hacer predicciones\n",
    "\n",
    "trainPredict = model.predict(trainX)\n",
    "testPredict = model.predict(testX)"
   ],
   "metadata": {
    "collapsed": false,
    "ExecuteTime": {
     "end_time": "2023-06-06T23:19:03.050165Z",
     "start_time": "2023-06-06T23:19:02.690542Z"
    }
   }
  },
  {
   "cell_type": "markdown",
   "source": [
    "Después de hacer las predicciones, deberíamos invertir las transformaciones que hicimos al principio para que los resultados sean más interpretables. Para hacerlo, podemos usar la función inverse_transform que viene con el objeto MinMaxScaler que creamos al principio."
   ],
   "metadata": {
    "collapsed": false
   }
  },
  {
   "cell_type": "code",
   "execution_count": 9,
   "outputs": [],
   "source": [
    "# Invertir las predicciones\n",
    "\n",
    "trainPredict = scaler.inverse_transform(trainPredict)\n",
    "trainY = scaler.inverse_transform([trainY])\n",
    "testPredict = scaler.inverse_transform(testPredict)\n",
    "testY = scaler.inverse_transform([testY])"
   ],
   "metadata": {
    "collapsed": false,
    "ExecuteTime": {
     "end_time": "2023-06-06T23:19:54.488858Z",
     "start_time": "2023-06-06T23:19:54.482856Z"
    }
   }
  },
  {
   "cell_type": "markdown",
   "source": [
    "Finalmente, deberíamos calcular el error de raíz cuadrada medio (RMSE) para nuestras predicciones en los conjuntos de entrenamiento y prueba. Esto nos dará una medida cuantitativa de qué tan bien nuestro modelo está funcionando."
   ],
   "metadata": {
    "collapsed": false
   }
  },
  {
   "cell_type": "code",
   "execution_count": 10,
   "outputs": [
    {
     "name": "stdout",
     "output_type": "stream",
     "text": [
      "Resultado del conjunto de entrenamiento: 22.60 RMSE\n",
      "Resultado del conjunto de prueba: 59.47 RMSE\n"
     ]
    }
   ],
   "source": [
    "# Calcular el error cuadrático medio\n",
    "\n",
    "from sklearn.metrics import mean_squared_error\n",
    "\n",
    "trainScore = mean_squared_error(trainY[0], trainPredict[:, 0], squared=False)\n",
    "print(\"Resultado del conjunto de entrenamiento: %.2f RMSE\" % (trainScore))\n",
    "testScore = mean_squared_error(testY[0], testPredict[:, 0], squared=False)\n",
    "print(\"Resultado del conjunto de prueba: %.2f RMSE\" % (testScore))"
   ],
   "metadata": {
    "collapsed": false,
    "ExecuteTime": {
     "end_time": "2023-06-06T23:20:23.037129Z",
     "start_time": "2023-06-06T23:20:23.032545Z"
    }
   }
  },
  {
   "cell_type": "code",
   "execution_count": 17,
   "outputs": [
    {
     "data": {
      "text/plain": "<Figure size 640x480 with 1 Axes>",
      "image/png": "[encoded data removed]"
     },
     "metadata": {},
     "output_type": "display_data"
    }
   ],
   "source": [
    "# Graficar los resultados\n",
    "\n",
    "import matplotlib.pyplot as plt\n",
    "\n",
    "# Shift train predictions for plotting\n",
    "trainPredictPlot = np.empty_like(data)\n",
    "trainPredictPlot[:, :] = np.nan\n",
    "trainPredictPlot[look_back:len(trainPredict)+look_back, :] = trainPredict\n",
    "\n",
    "# Shift test predictions for plotting\n",
    "testPredictPlot = np.empty_like(data)\n",
    "testPredictPlot[:, :] = np.nan\n",
    "testPredictPlot[len(trainPredict)+(look_back*2)+1:len(data)-1, :] = testPredict\n",
    "\n",
    "# Plot baseline and predictions\n",
    "plt.plot(scaler.inverse_transform(data))\n",
    "plt.plot(trainPredictPlot)\n",
    "plt.plot(testPredictPlot)\n",
    "plt.show()"
   ],
   "metadata": {
    "collapsed": false,
    "ExecuteTime": {
     "end_time": "2023-06-06T23:26:45.649267Z",
     "start_time": "2023-06-06T23:26:45.216088Z"
    }
   }
  },
  {
   "cell_type": "markdown",
   "source": [
    "Este script realiza los siguientes pasos:\n",
    "\n",
    "Crea dos nuevas series de tiempo vacías que tienen la misma longitud y forma que nuestro conjunto de datos original.\n",
    "\n",
    "Inserta nuestras predicciones de entrenamiento y prueba en estas nuevas series de tiempo en los lugares correspondientes. Se inserta un valor \"NaN\" en los lugares donde no hicimos una predicción.\n",
    "\n",
    "Trazar la serie de tiempo original y nuestras predicciones en el mismo gráfico."
   ],
   "metadata": {
    "collapsed": false
   }
  },
  {
   "cell_type": "code",
   "execution_count": null,
   "outputs": [],
   "source": [],
   "metadata": {
    "collapsed": false
   }
  }
 ],
 "metadata": {
  "kernelspec": {
   "display_name": "Python 3",
   "language": "python",
   "name": "python3"
  },
  "language_info": {
   "codemirror_mode": {
    "name": "ipython",
    "version": 2
   },
   "file_extension": ".py",
   "mimetype": "text/x-python",
   "name": "python",
   "nbconvert_exporter": "python",
   "pygments_lexer": "ipython2",
   "version": "2.7.6"
  }
 },
 "nbformat": 4,
 "nbformat_minor": 0
}
